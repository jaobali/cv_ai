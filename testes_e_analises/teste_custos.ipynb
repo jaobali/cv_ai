{
 "cells": [
  {
   "cell_type": "code",
   "execution_count": 4,
   "metadata": {},
   "outputs": [],
   "source": [
    "from langchain_groq import ChatGroq\n",
    "from langchain_openai import ChatOpenAI\n",
    "import time\n",
    "\n",
    "from dotenv import load_dotenv, find_dotenv\n",
    "from pydantic import BaseModel, Field\n",
    "from langchain_core.prompts import ChatPromptTemplate\n",
    "from langchain.output_parsers import PydanticOutputParser\n",
    "from typing import Optional\n",
    "from typing import List\n",
    "\n",
    "\n",
    "from langchain.callbacks import get_openai_callback\n",
    "\n",
    "\n",
    "\n",
    "# Carregar variáveis de ambiente\n",
    "dotenv_path = find_dotenv()\n",
    "_ = load_dotenv(dotenv_path)\n",
    "\n",
    "class ResumoCurriculo(BaseModel):\n",
    "    nome_completo: Optional[str] = Field(None, description=\"Nome completo do candidato. Deve estar escrito todo em letra maiúscula.\")\n",
    "    experiencia: List[str] = Field(None, description=\"Resumo da experiência profissional\")\n",
    "    habilidades: List[str] = Field(None, description=\"Principais habilidades\")\n",
    "    educacao: List[str] = Field(None, description=\"Formação educacional\")\n",
    "    idiomas: List[str] = Field(None, description=\"Idiomas conhecidos\")\n",
    "\n",
    "    def dict(self, *args, **kwargs):\n",
    "        return super().dict(*args, **kwargs, exclude_none=True)"
   ]
  },
  {
   "cell_type": "code",
   "execution_count": 5,
   "metadata": {},
   "outputs": [],
   "source": [
    "def iniciar_modelo():\n",
    "    model = ChatOpenAI(model='gpt-4o-mini')\n",
    "    return model"
   ]
  },
  {
   "cell_type": "code",
   "execution_count": 6,
   "metadata": {},
   "outputs": [],
   "source": [
    "texto_markdown = '''## Armando Gomes\n",
    "\n",
    "## ADMINISTRAÇÃO\n",
    "\n",
    "<!-- image -->\n",
    "\n",
    "Telefone: (12) 3456 - 7890 ola@grandesite.com.br\n",
    "\n",
    "Rua Alegre, 123 - Cidade Brasileira, Estado, País\n",
    "\n",
    "<!-- image -->\n",
    "\n",
    "## OBJETIVO\n",
    "\n",
    "Ter a oportunidade de desenvolver - me profissionalmente, colocando em prática aspectos abordados em sala de aula. Fazer um bom trabalho em equipe, colaborando assim com meu crescimento profissional e com a instituição a qual fui engajada.\n",
    "\n",
    "<!-- image -->\n",
    "\n",
    "## FORMAÇÃO\n",
    "\n",
    "- Escola Faustino Técnico em Informática, integrado ao ensino médio. Integral. Início em 03/ 2012 Conclusão em 03/2016\n",
    "- Faculdade Borcelle\n",
    "- Técnico em Administração. Vespertino. Início em 08/2018 Conclusão em 08/2022\n",
    "\n",
    "<!-- image -->\n",
    "\n",
    "## EXPERIÊNCIAS\n",
    "\n",
    "- 25/03/2015 - 25/03/2016: Empresa Ícaro Área de atuação: Auxiliar Financeiro/ Administrativo Atividade: Estágio Duração: 1 ano\n",
    "- 23/10/2017 - 31/03/2019 : Queirós e Parceiros Área de atuação: Auxiliar Financeiro Atividade: Funcionário Duração: 4 meses\n",
    "\n",
    "<!-- image -->\n",
    "\n",
    "## HABILIDADES\n",
    "\n",
    "- Boa Comunicação\n",
    "- Trabalho em equipe\n",
    "- Proativo\n",
    "- Resiliência\n",
    "\n",
    "<!-- image -->\n",
    "\n",
    "<!-- image -->\n",
    "\n",
    "<!-- image -->'''\n",
    "\n",
    "start_time = time.time()\n",
    "\n",
    "parser = PydanticOutputParser(pydantic_object=ResumoCurriculo)\n",
    "format_instructions = parser.get_format_instructions()\n",
    "\n",
    "system_prompt = '''\n",
    "    Você é um assistente de RH com muita experiência na análise crítica de currículos.\n",
    "    A seguir você será apresentado ao curriculo e terá instruções precisas para parsea-lo.\n",
    "    Seu objetivo é extrair as informações do curriculo e retornar um resumo do mesmo em formato JSON.\n",
    "    Lembre-se de que esses curriculos estão em formato markdown e foram extraídos de arquivos pdf por um certo processo de extração de texto.\n",
    "    Portanto, as vezes, as informações não estarão perfeitamente em seu capítulos correspondentes. Assim, analise as informação como um todo.\n",
    "    Se você não encontrar alguma informação pedida no corriculo coloque \"Não encontrado\" no campo correspondente.\n",
    "    Necessariamente preciso que o output seja em formato JSON para análises posteriores.\n",
    "    Ignore strings no formato \"<!-- image -->\", elas representam posições onde imagens foram detectadas no curriculo.\n",
    "    Não escreva nada além do formato JSON solicitado.\n",
    "'''\n",
    "\n",
    "human_prompt = \"{format_instructions}\\n\\n Currículo do candidato para resumir:\\n\\n{curriculo}\"\n",
    "\n",
    "prompt = ChatPromptTemplate.from_messages([\n",
    "    (\"system\", system_prompt),\n",
    "    (\"human\", human_prompt)\n",
    "]).partial(format_instructions=format_instructions)\n",
    "\n",
    "modelo = iniciar_modelo()\n",
    "\n",
    "chain = prompt | modelo | parser\n",
    "\n"
   ]
  },
  {
   "cell_type": "code",
   "execution_count": null,
   "metadata": {},
   "outputs": [],
   "source": [
    "with get_openai_callback() as cb:\n",
    "    resultado = chain.invoke({\"curriculo\": texto_markdown})\n",
    "\n",
    "    processing_time = time.time() - start_time\n",
    "\n",
    "    tokens_entrada = cb.prompt_tokens\n",
    "    tokens_saida = cb.completion_tokens\n",
    "    custo_chamada = cb.total_cost\n",
    "    tempo_processamento = processing_time\n",
    "\n",
    "    print(\"Tokens de entrada:\", tokens_entrada)\n",
    "    print(\"Tokens de saída:\", tokens_saida)\n",
    "    print(\"Total de tokens:\", cb.total_tokens)\n",
    "    print(\"Custo da chamada (USD):\", custo_chamada)\n",
    "    print(\"Tempo de processamento (s):\", tempo_processamento)"
   ]
  },
  {
   "cell_type": "code",
   "execution_count": 56,
   "metadata": {},
   "outputs": [
    {
     "name": "stdout",
     "output_type": "stream",
     "text": [
      "<class 'str'>\n"
     ]
    },
    {
     "data": {
      "text/plain": [
       "'{\"nome_completo\":\"ARMANDO GOMES\",\"experiencia\":[\"25/03/2015 - 25/03/2016: Empresa Ícaro - Auxiliar Financeiro/ Administrativo - Estágio - Duração: 1 ano\",\"23/10/2017 - 31/03/2019: Queirós e Parceiros - Auxiliar Financeiro - Funcionário - Duração: 4 meses\"],\"habilidades\":[\"Boa Comunicação\",\"Trabalho em equipe\",\"Proativo\",\"Resiliência\"],\"educacao\":[\"Escola Faustino - Técnico em Informática, integrado ao ensino médio - Início em 03/2012 - Conclusão em 03/2016\",\"Faculdade Borcelle - Técnico em Administração - Início em 08/2018 - Conclusão em 08/2022\"],\"idiomas\":[\"Não encontrado\"]}'"
      ]
     },
     "execution_count": 56,
     "metadata": {},
     "output_type": "execute_result"
    }
   ],
   "source": [
    "print(type(resultado.model_dump_json()))\n",
    "resultado.model_dump_json()"
   ]
  },
  {
   "cell_type": "code",
   "execution_count": 7,
   "metadata": {},
   "outputs": [],
   "source": [
    "modelo = iniciar_modelo()"
   ]
  },
  {
   "cell_type": "code",
   "execution_count": 9,
   "metadata": {},
   "outputs": [
    {
     "data": {
      "text/plain": [
       "'gpt-4o-mini'"
      ]
     },
     "execution_count": 9,
     "metadata": {},
     "output_type": "execute_result"
    }
   ],
   "source": [
    "modelo.model_name"
   ]
  },
  {
   "cell_type": "code",
   "execution_count": 23,
   "metadata": {},
   "outputs": [
    {
     "name": "stdout",
     "output_type": "stream",
     "text": [
      "Tokens de entrada: 556\n",
      "Tokens de saída: 56\n",
      "Total de tokens: 612\n",
      "Custo da chamada (USD): 0.000117\n",
      "Tempo de processamento (s): 505.9554226398468\n"
     ]
    }
   ],
   "source": [
    "from langchain.callbacks import get_openai_callback\n",
    "\n",
    "with get_openai_callback() as cb:\n",
    "    resultado = chain.invoke({\"curriculo\": texto_markdown})\n",
    "\n",
    "    processing_time = time.time() - start_time\n",
    "\n",
    "    print(\"Tokens de entrada:\", cb.prompt_tokens)\n",
    "    print(\"Tokens de saída:\", cb.completion_tokens)\n",
    "    print(\"Total de tokens:\", cb.total_tokens)\n",
    "    print(\"Custo da chamada (USD):\", cb.total_cost)\n",
    "    print(\"Tempo de processamento (s):\", processing_time)"
   ]
  },
  {
   "cell_type": "code",
   "execution_count": 24,
   "metadata": {},
   "outputs": [
    {
     "name": "stdout",
     "output_type": "stream",
     "text": [
      "Tokens de entrada: 556\n",
      "Tokens de saída: 56\n",
      "Total de tokens: 612\n",
      "Custo da chamada (USD): 0.000117\n",
      "Tempo de processamento (s): 505.9554226398468\n"
     ]
    }
   ],
   "source": [
    "print(\"Tokens de entrada:\", cb.prompt_tokens)\n",
    "print(\"Tokens de saída:\", cb.completion_tokens)\n",
    "print(\"Total de tokens:\", cb.total_tokens)\n",
    "print(\"Custo da chamada (USD):\", cb.total_cost)\n",
    "print(\"Tempo de processamento (s):\", processing_time)"
   ]
  }
 ],
 "metadata": {
  "kernelspec": {
   "display_name": "base",
   "language": "python",
   "name": "python3"
  },
  "language_info": {
   "codemirror_mode": {
    "name": "ipython",
    "version": 3
   },
   "file_extension": ".py",
   "mimetype": "text/x-python",
   "name": "python",
   "nbconvert_exporter": "python",
   "pygments_lexer": "ipython3",
   "version": "3.9.13"
  }
 },
 "nbformat": 4,
 "nbformat_minor": 2
}
