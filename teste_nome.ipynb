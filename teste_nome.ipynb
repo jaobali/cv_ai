{
 "cells": [
  {
   "cell_type": "code",
   "execution_count": 14,
   "metadata": {},
   "outputs": [],
   "source": [
    "from database import (\n",
    "    listar_vagas_por_usuario,\n",
    "    inserir_curriculo,\n",
    "    atualizar_md_curriculo,\n",
    "    listar_curriculos_por_usuario,\n",
    "    atualizar_resumo_curriculo,\n",
    "    atualizar_nome_candidato,\n",
    "    atualizar_tempo_execucao_md,\n",
    "    atualizar_tempo_execucao_resumo,\n",
    "    atualizar_tokens_resumo,\n",
    "    atualizar_llm_model,\n",
    "    atualizar_custo_resumo\n",
    ")\n",
    "import streamlit as st\n",
    "import pandas as pd\n",
    "import json"
   ]
  },
  {
   "cell_type": "code",
   "execution_count": 5,
   "metadata": {},
   "outputs": [],
   "source": [
    "curriculos_cadastrados = listar_curriculos_por_usuario(1)"
   ]
  },
  {
   "cell_type": "code",
   "execution_count": 8,
   "metadata": {},
   "outputs": [],
   "source": [
    "df_curriculos_cadastrados = pd.DataFrame(curriculos_cadastrados)"
   ]
  },
  {
   "cell_type": "code",
   "execution_count": 11,
   "metadata": {},
   "outputs": [],
   "source": [
    "df = df_curriculos_cadastrados[['id_curriculo', 'resumo_llm']]"
   ]
  },
  {
   "cell_type": "code",
   "execution_count": 21,
   "metadata": {},
   "outputs": [
    {
     "name": "stdout",
     "output_type": "stream",
     "text": [
      "Não encontrado\n",
      "JOÃO VICTOR BALIEIRO DA SILVA\n",
      "JOÃO VICTOR BALIEIRO DA SILVA\n"
     ]
    }
   ],
   "source": [
    "for i, (index, row) in enumerate(df.iterrows()):\n",
    "    resumo_json = json.loads(json.loads(row['resumo_llm']))\n",
    "    nome_candidato = resumo_json['nome_completo']\n",
    "    if isinstance(nome_candidato, list):\n",
    "        nome_candidato = nome_candidato[0]\n",
    "        print(nome_candidato)\n"
   ]
  },
  {
   "cell_type": "code",
   "execution_count": 16,
   "metadata": {},
   "outputs": [
    {
     "data": {
      "text/plain": [
       "1    \"{\\\"nome_completo\\\":[\\\"JOÃO VICTOR BALIEIRO DA...\n",
       "Name: resumo_llm, dtype: object"
      ]
     },
     "execution_count": 16,
     "metadata": {},
     "output_type": "execute_result"
    }
   ],
   "source": [
    "df.loc[df['id_curriculo']==21]['resumo_llm']"
   ]
  }
 ],
 "metadata": {
  "kernelspec": {
   "display_name": "base",
   "language": "python",
   "name": "python3"
  },
  "language_info": {
   "codemirror_mode": {
    "name": "ipython",
    "version": 3
   },
   "file_extension": ".py",
   "mimetype": "text/x-python",
   "name": "python",
   "nbconvert_exporter": "python",
   "pygments_lexer": "ipython3",
   "version": "3.9.13"
  }
 },
 "nbformat": 4,
 "nbformat_minor": 2
}
